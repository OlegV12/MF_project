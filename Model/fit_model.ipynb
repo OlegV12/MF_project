{
 "cells": [
  {
   "cell_type": "code",
   "execution_count": 5,
   "metadata": {},
   "outputs": [],
   "source": [
    "import pandas as pd\n",
    "from sklearn.tree import DecisionTreeClassifier\n",
    "from sklearn.model_selection import train_test_split\n",
    "from sklearn.metrics import f1_score, roc_auc_score\n",
    "import pickle"
   ]
  },
  {
   "cell_type": "code",
   "execution_count": 104,
   "metadata": {},
   "outputs": [],
   "source": [
    "features_df = pd.DataFrame(pd.read_csv('../Features/features.csv', sep=\"\\t\"))"
   ]
  },
  {
   "cell_type": "code",
   "execution_count": 169,
   "metadata": {},
   "outputs": [],
   "source": [
    "data_train_df = pd.read_csv(\"data_train.csv\")"
   ]
  },
  {
   "cell_type": "code",
   "execution_count": 106,
   "metadata": {},
   "outputs": [],
   "source": [
    "class DataPreprocessor():\n",
    "    def __init__(self, data, features):\n",
    "        self.data = data\n",
    "        self.features = features\n",
    "\n",
    "    def fit(self):\n",
    "        return self\n",
    "\n",
    "\n",
    "    def transform(self):\n",
    "        merged = pd.merge(self.data, self.features, how='left', on=['id',])\n",
    "        merged['time_delta'] = abs(merged['buy_time_x'] - merged['buy_time_y'])\n",
    "        merged.sort_values(['Unnamed: 0_x', 'time_delta'], ascending=True, inplace=True)\n",
    "        merged.drop_duplicates(subset=['Unnamed: 0_x'], inplace=True)\n",
    "\n",
    "        return merged\n",
    "\n",
    "    "
   ]
  },
  {
   "cell_type": "code",
   "execution_count": 133,
   "metadata": {},
   "outputs": [],
   "source": [
    "class FeatureGenerator():\n",
    "    def __init__(self) -> None:\n",
    "        pass\n",
    "\n",
    "    \n",
    "    def fit(self, df):\n",
    "        self.median_time = df.loc[df['target']==1].groupby(['vas_id'])['buy_time_x'].agg('median').to_dict()\n",
    "        self.vas_month = df.loc[df['target']==1].groupby(['vas_id'])['buy_time_x'].agg(lambda x:x.value_counts().index[0])\n",
    "        self.vas_month = pd.to_datetime(self.vas_month, unit='s').dt.month.to_dict()\n",
    "        return self\n",
    "    \n",
    "    def transform(self, df):\n",
    "        df['vas_time'] = df['vas_id'].map(self.median_time)\n",
    "        df.drop(['Unnamed: 0_x', 'Unnamed: 0_y', 'id',], axis=1, inplace=True)\n",
    "        df['buy_month'] = pd.to_datetime(df['buy_time_x'], unit='s').dt.month\n",
    "        df = pd.get_dummies(df, columns=['vas_id'])\n",
    "        df['buy_month_delta'] = df['buy_month'] - pd.to_datetime(df['vas_time']).dt.month\n",
    "        df.drop(['buy_month',], axis=1, inplace=True)\n",
    "\n",
    "        return df\n",
    "\n"
   ]
  },
  {
   "cell_type": "code",
   "execution_count": 134,
   "metadata": {},
   "outputs": [],
   "source": [
    "data_preprocessor = DataPreprocessor(data_train_df, features_df)\n",
    "feature_generator = FeatureGenerator()\n"
   ]
  },
  {
   "cell_type": "code",
   "execution_count": 135,
   "metadata": {},
   "outputs": [],
   "source": [
    "merged_df = data_preprocessor.transform()\n",
    "feature_generator.fit(merged_df)\n",
    "merged_df = feature_generator.transform(merged_df)"
   ]
  },
  {
   "cell_type": "code",
   "execution_count": 137,
   "metadata": {},
   "outputs": [],
   "source": [
    "X_train, X_test, y_train, y_test = train_test_split(merged_df.drop(['target'], axis=1), merged_df['target'], random_state=50, stratify=merged_df['target'], test_size=0.33)"
   ]
  },
  {
   "cell_type": "code",
   "execution_count": 138,
   "metadata": {},
   "outputs": [],
   "source": [
    "tree = DecisionTreeClassifier(criterion='gini', splitter='best', min_samples_split=2800, random_state=5, class_weight='balanced',)\n",
    "tree.fit(X_train, y_train)\n",
    "preds = tree.predict(X_test)"
   ]
  },
  {
   "cell_type": "code",
   "execution_count": 139,
   "metadata": {},
   "outputs": [
    {
     "data": {
      "text/plain": [
       "0.7113839745141134"
      ]
     },
     "execution_count": 139,
     "metadata": {},
     "output_type": "execute_result"
    }
   ],
   "source": [
    "f1_score(y_test, preds, average='macro')"
   ]
  },
  {
   "cell_type": "code",
   "execution_count": 140,
   "metadata": {},
   "outputs": [
    {
     "data": {
      "text/plain": [
       "0.8738254609149038"
      ]
     },
     "execution_count": 140,
     "metadata": {},
     "output_type": "execute_result"
    }
   ],
   "source": [
    "roc_auc_score(y_test, preds)"
   ]
  },
  {
   "cell_type": "code",
   "execution_count": 159,
   "metadata": {},
   "outputs": [],
   "source": [
    "pickle.dump(tree, open('model.pkl', 'wb'))\n",
    "pickle.dump(feature_generator, open('feature_gen.pkl', 'wb'))"
   ]
  }
 ],
 "metadata": {
  "interpreter": {
   "hash": "b602d4e06086d1a4c41d8580e2db15829e5f3e04db9b63cd38810a73158ee713"
  },
  "kernelspec": {
   "display_name": "Python 3.9.7 64-bit ('base': conda)",
   "language": "python",
   "name": "python3"
  },
  "language_info": {
   "codemirror_mode": {
    "name": "ipython",
    "version": 3
   },
   "file_extension": ".py",
   "mimetype": "text/x-python",
   "name": "python",
   "nbconvert_exporter": "python",
   "pygments_lexer": "ipython3",
   "version": "3.9.7"
  },
  "orig_nbformat": 4
 },
 "nbformat": 4,
 "nbformat_minor": 2
}
