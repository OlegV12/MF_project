{
 "cells": [
  {
   "cell_type": "code",
   "execution_count": 1,
   "metadata": {},
   "outputs": [],
   "source": [
    "import pandas as pd\n",
    "from sklearn.tree import DecisionTreeClassifier\n",
    "from sklearn.model_selection import train_test_split\n",
    "from sklearn.metrics import f1_score, roc_auc_score\n",
    "import pickle"
   ]
  },
  {
   "cell_type": "code",
   "execution_count": 2,
   "metadata": {},
   "outputs": [],
   "source": [
    "features_df = pd.DataFrame(pd.read_csv('./features.csv', sep=\"\\t\"))"
   ]
  },
  {
   "cell_type": "code",
   "execution_count": 3,
   "metadata": {},
   "outputs": [],
   "source": [
    "data_train_df = pd.read_csv(\"data_train.csv\")\n",
    "data_test_df = pd.read_csv(\"data_test.csv\")\n"
   ]
  },
  {
   "cell_type": "code",
   "execution_count": 4,
   "metadata": {},
   "outputs": [],
   "source": [
    "class DataPreprocessor():\n",
    "    def __init__(self, data, features):\n",
    "        self.data = data\n",
    "        self.features = features\n",
    "\n",
    "    def fit(self):\n",
    "        return self\n",
    "\n",
    "\n",
    "    def transform(self):\n",
    "        merged = pd.merge(self.data, self.features, how='left', on=['id',])\n",
    "        merged['time_delta'] = abs(merged['buy_time_x'] - merged['buy_time_y'])\n",
    "        merged.sort_values(['Unnamed: 0_x', 'time_delta'], ascending=True, inplace=True)\n",
    "        merged.drop_duplicates(subset=['Unnamed: 0_x'], inplace=True)\n",
    "\n",
    "        return merged\n",
    "\n",
    "    "
   ]
  },
  {
   "cell_type": "code",
   "execution_count": 5,
   "metadata": {},
   "outputs": [],
   "source": [
    "class FeatureGenerator():\n",
    "    def __init__(self) -> None:\n",
    "        pass\n",
    "\n",
    "    \n",
    "    def fit(self, df):\n",
    "        self.median_time = df.loc[df['target']==1].groupby(['vas_id'])['buy_time_x'].agg('median').to_dict()\n",
    "        self.vas_month = df.loc[df['target']==1].groupby(['vas_id'])['buy_time_x'].agg(lambda x:x.value_counts().index[0])\n",
    "        self.vas_month = pd.to_datetime(self.vas_month, unit='s').dt.month.to_dict()\n",
    "        return self\n",
    "    \n",
    "    def transform(self, df):\n",
    "        df['vas_time'] = df['vas_id'].map(self.median_time)\n",
    "        df.drop(['Unnamed: 0_x', 'Unnamed: 0_y', 'id',], axis=1, inplace=True)\n",
    "        df['buy_month'] = pd.to_datetime(df['buy_time_x'], unit='s').dt.month\n",
    "        # df['vas_month'] = df['vas_id'].map(self.vas_month)\n",
    "        # df['buy_month_delta'] = df['buy_month'] - df['vas_month']\n",
    "        df = pd.get_dummies(df, columns=['buy_month'])\n",
    "        df = pd.get_dummies(df, columns=['vas_id'])\n",
    "        # df.drop(col_list, inplace=True, axis=1)\n",
    "        # vas_month = mrg.loc[mrg['target']==1].groupby(['vas_id'])['buy_time_x'].agg(lambda x:x.value_counts().index[0])\n",
    "        # vas_month = pd.to_datetime(vas_month, unit='s').dt.month.to_dict()\n",
    "        \n",
    "        # df['buy_month_delta'] = df['buy_month'] - df['vas_month']\n",
    "        # df.drop(['vas_month'], axis=1, inplace=True)\n",
    "        return df\n",
    "\n"
   ]
  },
  {
   "cell_type": "code",
   "execution_count": 6,
   "metadata": {},
   "outputs": [],
   "source": [
    "data_preprocessor = DataPreprocessor(data_train_df, features_df)\n",
    "feature_generator = FeatureGenerator()\n"
   ]
  },
  {
   "cell_type": "code",
   "execution_count": 7,
   "metadata": {},
   "outputs": [],
   "source": [
    "merged_df = data_preprocessor.transform()\n",
    "feature_generator.fit(merged_df)\n",
    "merged_df = feature_generator.transform(merged_df)"
   ]
  },
  {
   "cell_type": "code",
   "execution_count": 8,
   "metadata": {},
   "outputs": [],
   "source": [
    "X_train, X_test, y_train, y_test = train_test_split(merged_df.drop(['target'], axis=1), merged_df['target'], random_state=50, stratify=merged_df['target'], test_size=0.33)"
   ]
  },
  {
   "cell_type": "code",
   "execution_count": 9,
   "metadata": {},
   "outputs": [],
   "source": [
    "tree = DecisionTreeClassifier(criterion='gini', splitter='best', min_samples_split=2800, random_state=5, class_weight='balanced',)\n",
    "tree.fit(X_train, y_train)\n",
    "preds = tree.predict(X_test)"
   ]
  },
  {
   "cell_type": "code",
   "execution_count": 10,
   "metadata": {},
   "outputs": [
    {
     "data": {
      "text/plain": [
       "0.7107209103906577"
      ]
     },
     "execution_count": 10,
     "metadata": {},
     "output_type": "execute_result"
    }
   ],
   "source": [
    "f1_score(y_test, preds, average='macro')"
   ]
  },
  {
   "cell_type": "code",
   "execution_count": 11,
   "metadata": {},
   "outputs": [
    {
     "data": {
      "text/plain": [
       "0.8736063887235646"
      ]
     },
     "execution_count": 11,
     "metadata": {},
     "output_type": "execute_result"
    }
   ],
   "source": [
    "roc_auc_score(y_test, preds)"
   ]
  },
  {
   "cell_type": "code",
   "execution_count": 12,
   "metadata": {},
   "outputs": [],
   "source": [
    "pickle.dump(tree, open('model.pkl', 'wb'))"
   ]
  }
 ],
 "metadata": {
  "interpreter": {
   "hash": "b602d4e06086d1a4c41d8580e2db15829e5f3e04db9b63cd38810a73158ee713"
  },
  "kernelspec": {
   "display_name": "Python 3.9.7 64-bit ('base': conda)",
   "language": "python",
   "name": "python3"
  },
  "language_info": {
   "codemirror_mode": {
    "name": "ipython",
    "version": 3
   },
   "file_extension": ".py",
   "mimetype": "text/x-python",
   "name": "python",
   "nbconvert_exporter": "python",
   "pygments_lexer": "ipython3",
   "version": "3.9.7"
  },
  "orig_nbformat": 4
 },
 "nbformat": 4,
 "nbformat_minor": 2
}
